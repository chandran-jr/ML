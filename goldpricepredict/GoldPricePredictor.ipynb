{
  "nbformat": 4,
  "nbformat_minor": 0,
  "metadata": {
    "colab": {
      "name": "GoldPricePredictor.ipynb",
      "provenance": [],
      "authorship_tag": "ABX9TyNsZeMKJG0xNNEHLx7SCh67",
      "include_colab_link": true
    },
    "kernelspec": {
      "name": "python3",
      "display_name": "Python 3"
    }
  },
  "cells": [
    {
      "cell_type": "markdown",
      "metadata": {
        "id": "view-in-github",
        "colab_type": "text"
      },
      "source": [
        "<a href=\"https://colab.research.google.com/github/Leos1999/GoldPricePredictor/blob/master/GoldPricePredictor.ipynb\" target=\"_parent\"><img src=\"https://colab.research.google.com/assets/colab-badge.svg\" alt=\"Open In Colab\"/></a>"
      ]
    },
    {
      "cell_type": "code",
      "metadata": {
        "id": "m9Z_pveofhB6",
        "colab_type": "code",
        "colab": {}
      },
      "source": [
        "import math\n",
        "import numpy as np\n",
        "import pandas as pd\n",
        "import matplotlib.pyplot as plt\n",
        "from tensorflow.keras import optimizers\n",
        "from sklearn.metrics import mean_squared_error\n",
        "from sklearn.preprocessing import MinMaxScaler\n",
        "from tensorflow.keras.models import Sequential\n",
        "from tensorflow.keras.models import load_model\n",
        "from tensorflow.keras.callbacks import ModelCheckpoint,LearningRateScheduler\n",
        "from tensorflow.keras.layers import Dense, LSTM, Dropout"
      ],
      "execution_count": 58,
      "outputs": []
    },
    {
      "cell_type": "code",
      "metadata": {
        "id": "WDiEBrC-iOmm",
        "colab_type": "code",
        "colab": {
          "base_uri": "https://localhost:8080/",
          "height": 34
        },
        "outputId": "6b800836-81a5-423c-a421-5bbea0cbeaba"
      },
      "source": [
        "data_URL = \"https://raw.githubusercontent.com/Leos1999/GoldPricePredictor/master/goldrate.csv\"\n",
        "data = pd.read_csv(data_URL)\n",
        "data.head()\n",
        "data = data.iloc[:-10,1].values.reshape(-1,1)\n",
        "print(data.shape)\n",
        "scaler = MinMaxScaler(feature_range = (0, 1))"
      ],
      "execution_count": 59,
      "outputs": [
        {
          "output_type": "stream",
          "text": [
            "(597, 1)\n"
          ],
          "name": "stdout"
        }
      ]
    },
    {
      "cell_type": "code",
      "metadata": {
        "id": "DvsJU3N4mKEh",
        "colab_type": "code",
        "colab": {}
      },
      "source": [
        "def train_test_split_norm(data):\n",
        "  data_norm = scaler.fit_transform(data)\n",
        "  size = 0.85\n",
        "  train_size = int(len(data_norm) * size)\n",
        "  test_size = len(data_norm) - train_size\n",
        "  train, test = data_norm[0:train_size, :], data_norm[train_size:len(data_norm), :]\n",
        "  # print(\"Number of entries (training set, test set): \" + str((len(train), len(test))))\n",
        "  return train,test"
      ],
      "execution_count": 60,
      "outputs": []
    },
    {
      "cell_type": "code",
      "metadata": {
        "id": "MsToa4I-mWIS",
        "colab_type": "code",
        "colab": {}
      },
      "source": [
        "def create_dataset(dataset, window_size):\n",
        "    data_X, data_Y = [], []\n",
        "    for i in range(len(dataset) - window_size - 1):\n",
        "        a = dataset[i:(i + window_size), 0]\n",
        "        data_X.append(a)\n",
        "        data_Y.append(dataset[i + window_size, 0])\n",
        "    return(np.array(data_X), np.array(data_Y))"
      ],
      "execution_count": 61,
      "outputs": []
    },
    {
      "cell_type": "code",
      "metadata": {
        "id": "Aw_-evtqmYe-",
        "colab_type": "code",
        "colab": {}
      },
      "source": [
        "def window_maker(data,window_size):\n",
        "  train,test = train_test_split_norm(data)\n",
        "  train_X, train_Y = create_dataset(train, window_size)\n",
        "  test_X, test_Y = create_dataset(test, window_size)\n",
        "  print(\"Original training data shape:\")\n",
        "  print(train_X.shape)\n",
        "  train_X = np.reshape(train_X, (train_X.shape[0], 1, train_X.shape[1]))\n",
        "  test_X = np.reshape(test_X, (test_X.shape[0], 1, test_X.shape[1]))\n",
        "  print(\"New training data shape:\")\n",
        "  print(train_X.shape)\n",
        "  return train_X,train_Y,test_X,test_Y,train,test"
      ],
      "execution_count": 62,
      "outputs": []
    },
    {
      "cell_type": "code",
      "metadata": {
        "id": "UCuGVMdem1S5",
        "colab_type": "code",
        "colab": {}
      },
      "source": [
        "def step_decay(epoch):\n",
        "  initial_lrate = 0.01\n",
        "  drop = 0.3\n",
        "  epochs_drop = 10.0\n",
        "  lrate = initial_lrate * math.pow(drop, math.floor((1+epoch)/epochs_drop))\n",
        "  return lrate\n",
        "\n",
        "def model_bulid(train_X,train_Y,test_X,test_Y,window_size):\n",
        "  model = Sequential()\n",
        "  model.add(LSTM(24,input_shape = (1, window_size),return_sequences=True))\n",
        "  model.add(LSTM(60,input_shape = (1, window_size),return_sequences=True))\n",
        "  model.add(LSTM(60,input_shape = (1, window_size)))\n",
        "  model.add(Dense(10))\n",
        "  model.add(Dense(1))\n",
        "  model.compile(loss = \"mean_squared_error\", optimizer = \"adam\",metrics='mean_absolute_error')\n",
        "\n",
        "  ckpt_model = 'model_gold.hdf5'\n",
        "  checkpoint = ModelCheckpoint(ckpt_model,monitor='val_loss',verbose=0,\n",
        "                               save_best_only=True,mode='min')\n",
        "  lrate = 0.001\n",
        "  lrate = LearningRateScheduler(step_decay)\n",
        "  callbacks_list = [checkpoint,lrate]\n",
        "\n",
        "  history = model.fit(train_X, train_Y, epochs = 50, batch_size = 1, verbose = 1,callbacks=callbacks_list,validation_data=(test_X,test_Y))\n",
        "  plt.plot(history.history['loss'], label='train')\n",
        "  plt.plot(history.history['val_loss'], label='test') \n",
        "  plt.legend()\n",
        "  plt.show()\n",
        "  return history,model"
      ],
      "execution_count": 63,
      "outputs": []
    },
    {
      "cell_type": "code",
      "metadata": {
        "id": "ju4QUUWvm7KD",
        "colab_type": "code",
        "colab": {}
      },
      "source": [
        "def predict_and_score(X, Y):   \n",
        "    pred = scaler.inverse_transform(model.predict(X))\n",
        "    orig_data = scaler.inverse_transform([Y])\n",
        "    print(orig_data.shape)\n",
        "    score = math.sqrt(mean_squared_error(orig_data[0], pred[:, 0]))\n",
        "    return(score, pred)"
      ],
      "execution_count": 64,
      "outputs": []
    },
    {
      "cell_type": "code",
      "metadata": {
        "id": "3OTCCtRem-Yy",
        "colab_type": "code",
        "colab": {
          "base_uri": "https://localhost:8080/",
          "height": 1000
        },
        "outputId": "6bba53cb-dbe7-420a-cbfd-d293c501650e"
      },
      "source": [
        "window = 2\n",
        "train_X,train_Y,test_X,test_Y,train,test = window_maker(data,window)\n",
        "history,model = model_bulid(train_X,train_Y,test_X,test_Y,window)\n",
        "rmse_train, train_predict = predict_and_score(train_X, train_Y)\n",
        "rmse_test, test_predict = predict_and_score(test_X, test_Y)\n",
        "print(\"Training data score:\",rmse_train,\"RMSE\")\n",
        "print(\"Test data score:\",rmse_test,\"RMSE\")"
      ],
      "execution_count": 65,
      "outputs": [
        {
          "output_type": "stream",
          "text": [
            "Original training data shape:\n",
            "(504, 2)\n",
            "New training data shape:\n",
            "(504, 1, 2)\n",
            "Epoch 1/50\n",
            "504/504 [==============================] - 4s 7ms/step - loss: 0.0116 - mean_absolute_error: 0.0653 - val_loss: 0.0025 - val_mean_absolute_error: 0.0410 - lr: 0.0100\n",
            "Epoch 2/50\n",
            "504/504 [==============================] - 2s 5ms/step - loss: 0.0030 - mean_absolute_error: 0.0339 - val_loss: 0.0857 - val_mean_absolute_error: 0.2869 - lr: 0.0100\n",
            "Epoch 3/50\n",
            "504/504 [==============================] - 2s 5ms/step - loss: 0.0033 - mean_absolute_error: 0.0324 - val_loss: 0.0014 - val_mean_absolute_error: 0.0277 - lr: 0.0100\n",
            "Epoch 4/50\n",
            "504/504 [==============================] - 3s 5ms/step - loss: 0.0020 - mean_absolute_error: 0.0294 - val_loss: 0.0475 - val_mean_absolute_error: 0.2148 - lr: 0.0100\n",
            "Epoch 5/50\n",
            "504/504 [==============================] - 3s 5ms/step - loss: 0.0030 - mean_absolute_error: 0.0330 - val_loss: 0.0014 - val_mean_absolute_error: 0.0288 - lr: 0.0100\n",
            "Epoch 6/50\n",
            "504/504 [==============================] - 2s 5ms/step - loss: 0.0015 - mean_absolute_error: 0.0276 - val_loss: 0.0040 - val_mean_absolute_error: 0.0505 - lr: 0.0100\n",
            "Epoch 7/50\n",
            "504/504 [==============================] - 2s 5ms/step - loss: 0.0016 - mean_absolute_error: 0.0297 - val_loss: 0.0047 - val_mean_absolute_error: 0.0610 - lr: 0.0100\n",
            "Epoch 8/50\n",
            "504/504 [==============================] - 2s 5ms/step - loss: 0.0036 - mean_absolute_error: 0.0389 - val_loss: 0.0052 - val_mean_absolute_error: 0.0549 - lr: 0.0100\n",
            "Epoch 9/50\n",
            "504/504 [==============================] - 2s 5ms/step - loss: 0.0022 - mean_absolute_error: 0.0304 - val_loss: 0.0023 - val_mean_absolute_error: 0.0379 - lr: 0.0100\n",
            "Epoch 10/50\n",
            "504/504 [==============================] - 2s 5ms/step - loss: 6.3138e-04 - mean_absolute_error: 0.0168 - val_loss: 0.0034 - val_mean_absolute_error: 0.0500 - lr: 0.0030\n",
            "Epoch 11/50\n",
            "504/504 [==============================] - 2s 5ms/step - loss: 5.0386e-04 - mean_absolute_error: 0.0149 - val_loss: 0.0024 - val_mean_absolute_error: 0.0394 - lr: 0.0030\n",
            "Epoch 12/50\n",
            "504/504 [==============================] - 2s 5ms/step - loss: 5.7191e-04 - mean_absolute_error: 0.0167 - val_loss: 0.0018 - val_mean_absolute_error: 0.0346 - lr: 0.0030\n",
            "Epoch 13/50\n",
            "504/504 [==============================] - 2s 5ms/step - loss: 5.3414e-04 - mean_absolute_error: 0.0159 - val_loss: 0.0023 - val_mean_absolute_error: 0.0392 - lr: 0.0030\n",
            "Epoch 14/50\n",
            "504/504 [==============================] - 2s 5ms/step - loss: 7.0019e-04 - mean_absolute_error: 0.0177 - val_loss: 0.0019 - val_mean_absolute_error: 0.0339 - lr: 0.0030\n",
            "Epoch 15/50\n",
            "504/504 [==============================] - 3s 5ms/step - loss: 6.6469e-04 - mean_absolute_error: 0.0177 - val_loss: 0.0045 - val_mean_absolute_error: 0.0583 - lr: 0.0030\n",
            "Epoch 16/50\n",
            "504/504 [==============================] - 2s 5ms/step - loss: 6.1700e-04 - mean_absolute_error: 0.0160 - val_loss: 0.0015 - val_mean_absolute_error: 0.0289 - lr: 0.0030\n",
            "Epoch 17/50\n",
            "504/504 [==============================] - 2s 5ms/step - loss: 6.6181e-04 - mean_absolute_error: 0.0162 - val_loss: 0.0013 - val_mean_absolute_error: 0.0271 - lr: 0.0030\n",
            "Epoch 18/50\n",
            "504/504 [==============================] - 2s 5ms/step - loss: 5.1733e-04 - mean_absolute_error: 0.0155 - val_loss: 0.0229 - val_mean_absolute_error: 0.1468 - lr: 0.0030\n",
            "Epoch 19/50\n",
            "504/504 [==============================] - 3s 5ms/step - loss: 6.0705e-04 - mean_absolute_error: 0.0167 - val_loss: 0.0015 - val_mean_absolute_error: 0.0297 - lr: 0.0030\n",
            "Epoch 20/50\n",
            "504/504 [==============================] - 2s 5ms/step - loss: 4.1895e-04 - mean_absolute_error: 0.0127 - val_loss: 0.0020 - val_mean_absolute_error: 0.0359 - lr: 9.0000e-04\n",
            "Epoch 21/50\n",
            "504/504 [==============================] - 3s 5ms/step - loss: 4.3970e-04 - mean_absolute_error: 0.0123 - val_loss: 0.0015 - val_mean_absolute_error: 0.0307 - lr: 9.0000e-04\n",
            "Epoch 22/50\n",
            "504/504 [==============================] - 2s 5ms/step - loss: 3.7659e-04 - mean_absolute_error: 0.0121 - val_loss: 0.0015 - val_mean_absolute_error: 0.0305 - lr: 9.0000e-04\n",
            "Epoch 23/50\n",
            "504/504 [==============================] - 3s 5ms/step - loss: 3.9369e-04 - mean_absolute_error: 0.0122 - val_loss: 0.0018 - val_mean_absolute_error: 0.0335 - lr: 9.0000e-04\n",
            "Epoch 24/50\n",
            "504/504 [==============================] - 2s 5ms/step - loss: 3.8161e-04 - mean_absolute_error: 0.0126 - val_loss: 0.0031 - val_mean_absolute_error: 0.0467 - lr: 9.0000e-04\n",
            "Epoch 25/50\n",
            "504/504 [==============================] - 3s 5ms/step - loss: 4.0169e-04 - mean_absolute_error: 0.0121 - val_loss: 0.0012 - val_mean_absolute_error: 0.0261 - lr: 9.0000e-04\n",
            "Epoch 26/50\n",
            "504/504 [==============================] - 2s 5ms/step - loss: 3.5494e-04 - mean_absolute_error: 0.0119 - val_loss: 0.0013 - val_mean_absolute_error: 0.0266 - lr: 9.0000e-04\n",
            "Epoch 27/50\n",
            "504/504 [==============================] - 2s 5ms/step - loss: 3.8527e-04 - mean_absolute_error: 0.0119 - val_loss: 0.0012 - val_mean_absolute_error: 0.0257 - lr: 9.0000e-04\n",
            "Epoch 28/50\n",
            "504/504 [==============================] - 3s 6ms/step - loss: 3.9503e-04 - mean_absolute_error: 0.0124 - val_loss: 0.0021 - val_mean_absolute_error: 0.0366 - lr: 9.0000e-04\n",
            "Epoch 29/50\n",
            "504/504 [==============================] - 3s 6ms/step - loss: 3.7917e-04 - mean_absolute_error: 0.0119 - val_loss: 0.0014 - val_mean_absolute_error: 0.0297 - lr: 9.0000e-04\n",
            "Epoch 30/50\n",
            "504/504 [==============================] - 2s 5ms/step - loss: 3.3408e-04 - mean_absolute_error: 0.0108 - val_loss: 0.0015 - val_mean_absolute_error: 0.0304 - lr: 2.7000e-04\n",
            "Epoch 31/50\n",
            "504/504 [==============================] - 3s 5ms/step - loss: 3.3720e-04 - mean_absolute_error: 0.0109 - val_loss: 0.0021 - val_mean_absolute_error: 0.0367 - lr: 2.7000e-04\n",
            "Epoch 32/50\n",
            "504/504 [==============================] - 2s 5ms/step - loss: 3.3334e-04 - mean_absolute_error: 0.0108 - val_loss: 0.0014 - val_mean_absolute_error: 0.0290 - lr: 2.7000e-04\n",
            "Epoch 33/50\n",
            "504/504 [==============================] - 3s 5ms/step - loss: 3.4351e-04 - mean_absolute_error: 0.0109 - val_loss: 0.0012 - val_mean_absolute_error: 0.0262 - lr: 2.7000e-04\n",
            "Epoch 34/50\n",
            "504/504 [==============================] - 2s 5ms/step - loss: 3.3420e-04 - mean_absolute_error: 0.0107 - val_loss: 0.0017 - val_mean_absolute_error: 0.0323 - lr: 2.7000e-04\n",
            "Epoch 35/50\n",
            "504/504 [==============================] - 3s 5ms/step - loss: 3.4039e-04 - mean_absolute_error: 0.0108 - val_loss: 0.0021 - val_mean_absolute_error: 0.0366 - lr: 2.7000e-04\n",
            "Epoch 36/50\n",
            "504/504 [==============================] - 2s 5ms/step - loss: 3.3737e-04 - mean_absolute_error: 0.0106 - val_loss: 0.0016 - val_mean_absolute_error: 0.0312 - lr: 2.7000e-04\n",
            "Epoch 37/50\n",
            "504/504 [==============================] - 2s 4ms/step - loss: 3.4489e-04 - mean_absolute_error: 0.0109 - val_loss: 0.0019 - val_mean_absolute_error: 0.0349 - lr: 2.7000e-04\n",
            "Epoch 38/50\n",
            "504/504 [==============================] - 2s 4ms/step - loss: 3.3456e-04 - mean_absolute_error: 0.0109 - val_loss: 0.0019 - val_mean_absolute_error: 0.0343 - lr: 2.7000e-04\n",
            "Epoch 39/50\n",
            "504/504 [==============================] - 2s 4ms/step - loss: 3.3554e-04 - mean_absolute_error: 0.0107 - val_loss: 0.0021 - val_mean_absolute_error: 0.0366 - lr: 2.7000e-04\n",
            "Epoch 40/50\n",
            "504/504 [==============================] - 2s 4ms/step - loss: 3.1503e-04 - mean_absolute_error: 0.0102 - val_loss: 0.0020 - val_mean_absolute_error: 0.0356 - lr: 8.1000e-05\n",
            "Epoch 41/50\n",
            "504/504 [==============================] - 2s 4ms/step - loss: 3.1491e-04 - mean_absolute_error: 0.0101 - val_loss: 0.0018 - val_mean_absolute_error: 0.0333 - lr: 8.1000e-05\n",
            "Epoch 42/50\n",
            "504/504 [==============================] - 2s 4ms/step - loss: 3.1963e-04 - mean_absolute_error: 0.0102 - val_loss: 0.0016 - val_mean_absolute_error: 0.0313 - lr: 8.1000e-05\n",
            "Epoch 43/50\n",
            "504/504 [==============================] - 2s 4ms/step - loss: 3.1834e-04 - mean_absolute_error: 0.0103 - val_loss: 0.0017 - val_mean_absolute_error: 0.0329 - lr: 8.1000e-05\n",
            "Epoch 44/50\n",
            "504/504 [==============================] - 2s 4ms/step - loss: 3.1555e-04 - mean_absolute_error: 0.0101 - val_loss: 0.0017 - val_mean_absolute_error: 0.0329 - lr: 8.1000e-05\n",
            "Epoch 45/50\n",
            "504/504 [==============================] - 2s 4ms/step - loss: 3.1563e-04 - mean_absolute_error: 0.0102 - val_loss: 0.0017 - val_mean_absolute_error: 0.0329 - lr: 8.1000e-05\n",
            "Epoch 46/50\n",
            "504/504 [==============================] - 2s 4ms/step - loss: 3.1667e-04 - mean_absolute_error: 0.0104 - val_loss: 0.0018 - val_mean_absolute_error: 0.0342 - lr: 8.1000e-05\n",
            "Epoch 47/50\n",
            "504/504 [==============================] - 2s 4ms/step - loss: 3.1708e-04 - mean_absolute_error: 0.0102 - val_loss: 0.0018 - val_mean_absolute_error: 0.0340 - lr: 8.1000e-05\n",
            "Epoch 48/50\n",
            "504/504 [==============================] - 2s 4ms/step - loss: 3.1401e-04 - mean_absolute_error: 0.0102 - val_loss: 0.0020 - val_mean_absolute_error: 0.0356 - lr: 8.1000e-05\n",
            "Epoch 49/50\n",
            "504/504 [==============================] - 2s 4ms/step - loss: 3.1567e-04 - mean_absolute_error: 0.0101 - val_loss: 0.0020 - val_mean_absolute_error: 0.0358 - lr: 8.1000e-05\n",
            "Epoch 50/50\n",
            "504/504 [==============================] - 2s 4ms/step - loss: 3.1081e-04 - mean_absolute_error: 0.0099 - val_loss: 0.0019 - val_mean_absolute_error: 0.0351 - lr: 2.4300e-05\n"
          ],
          "name": "stdout"
        },
        {
          "output_type": "display_data",
          "data": {
            "image/png": "[encoded data removed]",
            "text/plain": [
              "<Figure size 432x288 with 1 Axes>"
            ]
          },
          "metadata": {
            "tags": [],
            "needs_background": "light"
          }
        },
        {
          "output_type": "stream",
          "text": [
            "(1, 504)\n",
            "(1, 87)\n",
            "Training data score: 31.172944716284416 RMSE\n",
            "Test data score: 78.40215042916486 RMSE\n"
          ],
          "name": "stdout"
        }
      ]
    },
    {
      "cell_type": "code",
      "metadata": {
        "id": "dUi67LqgnvA6",
        "colab_type": "code",
        "colab": {
          "base_uri": "https://localhost:8080/",
          "height": 281
        },
        "outputId": "e00555a4-1cd8-477d-deb9-aca320a7f49a"
      },
      "source": [
        "model = load_model(\"/content/model_gold.hdf5\")\n",
        "pred = model.predict(test_X)\n",
        "pred = scaler.inverse_transform(pred)\n",
        "tst = test[window+1:]\n",
        "plt.plot(scaler.inverse_transform(tst),color='blue')\n",
        "plt.plot(pred,color='red')\n",
        "plt.title('Stock_prediction')\n",
        "plt.show()"
      ],
      "execution_count": 66,
      "outputs": [
        {
          "output_type": "display_data",
          "data": {
            "image/png": "[encoded data removed]",
            "text/plain": [
              "<Figure size 432x288 with 1 Axes>"
            ]
          },
          "metadata": {
            "tags": [],
            "needs_background": "light"
          }
        }
      ]
    },
    {
      "cell_type": "markdown",
      "metadata": {
        "id": "--gOEeonDU5Q",
        "colab_type": "text"
      },
      "source": [
        "##Gold Price Prediction for next 10 periods"
      ]
    },
    {
      "cell_type": "code",
      "metadata": {
        "id": "NXg0AE6UeMuW",
        "colab_type": "code",
        "colab": {
          "base_uri": "https://localhost:8080/",
          "height": 298
        },
        "outputId": "cdeb608c-bbb2-470d-cc26-8e411969eb59"
      },
      "source": [
        "dataset = data[-12:,0].reshape(-1,1)\n",
        "dataset = scaler.transform(dataset)\n",
        "data_X, data_Y = [], []\n",
        "for i in range(len(dataset) - window - 1):\n",
        "    a = dataset[i:(i + window), 0]\n",
        "    data_X.append(a)\n",
        "    data_Y.append(dataset[i + window, 0])\n",
        "data_X, data_Y = np.array(data_X),np.array(data_Y)\n",
        "data_X = np.reshape(data_X, (data_X.shape[0], 1, data_X.shape[1]))\n",
        "rmse_data, data_predict = predict_and_score(data_X, data_Y)\n",
        "pred = model.predict(data_X)\n",
        "pred = scaler.inverse_transform(pred)\n",
        "plt.plot(scaler.inverse_transform(data_Y.reshape(-1,1)),color='blue')\n",
        "plt.plot(pred,color='red')\n",
        "plt.title('Stock_prediction')\n",
        "plt.show()"
      ],
      "execution_count": 67,
      "outputs": [
        {
          "output_type": "stream",
          "text": [
            "(1, 9)\n"
          ],
          "name": "stdout"
        },
        {
          "output_type": "display_data",
          "data": {
            "image/png": "[encoded data removed]",
            "text/plain": [
              "<Figure size 432x288 with 1 Axes>"
            ]
          },
          "metadata": {
            "tags": [],
            "needs_background": "light"
          }
        }
      ]
    },
    {
      "cell_type": "code",
      "metadata": {
        "id": "sWxle3dx8eOo",
        "colab_type": "code",
        "colab": {}
      },
      "source": [
        ""
      ],
      "execution_count": 67,
      "outputs": []
    }
  ]
}