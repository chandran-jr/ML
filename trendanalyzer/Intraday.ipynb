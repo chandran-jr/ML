{
  "nbformat": 4,
  "nbformat_minor": 0,
  "metadata": {
    "colab": {
      "name": "Intraday.ipynb",
      "provenance": [],
      "mount_file_id": "1liUlCCQr9G88ywuslDkLJsrWKpZ5XiRn",
      "authorship_tag": "ABX9TyMxSKeaLDN5Fi/lNLP6k93t",
      "include_colab_link": true
    },
    "kernelspec": {
      "name": "python3",
      "display_name": "Python 3"
    }
  },
  "cells": [
    {
      "cell_type": "markdown",
      "metadata": {
        "id": "view-in-github",
        "colab_type": "text"
      },
      "source": [
        "<a href=\"https://colab.research.google.com/github/Leos1999/MarketTrendAnalyser/blob/master/Intraday.ipynb\" target=\"_parent\"><img src=\"https://colab.research.google.com/assets/colab-badge.svg\" alt=\"Open In Colab\"/></a>"
      ]
    },
    {
      "cell_type": "code",
      "metadata": {
        "id": "sLAGmVJ3TSRR",
        "colab_type": "code",
        "colab": {}
      },
      "source": [
        "import math\n",
        "import numpy as np\n",
        "import pandas as pd\n",
        "import matplotlib.pyplot as plt\n",
        "from tensorflow.keras import optimizers\n",
        "from sklearn.metrics import mean_squared_error\n",
        "from sklearn.preprocessing import MinMaxScaler\n",
        "from tensorflow.keras.models import Sequential\n",
        "from tensorflow.keras.models import load_model\n",
        "from tensorflow.keras.callbacks import ModelCheckpoint,LearningRateScheduler\n",
        "from tensorflow.keras.layers import Dense, LSTM, Dropout"
      ],
      "execution_count": null,
      "outputs": []
    },
    {
      "cell_type": "code",
      "metadata": {
        "id": "G3QRFpTKVdet",
        "colab_type": "code",
        "colab": {}
      },
      "source": [
        "sheet_url = 'https://docs.google.com/spreadsheets/d/1ao05clfZL1f2D8qtkYPTnAuNnbONSFr_pLVQJ8MkzHo/edit#gid=0'\n",
        "csv_export_url = sheet_url.replace('/edit#gid=', '/export?format=csv&gid=')"
      ],
      "execution_count": null,
      "outputs": []
    },
    {
      "cell_type": "code",
      "metadata": {
        "id": "lPr7AQE9UMIb",
        "colab_type": "code",
        "colab": {
          "base_uri": "https://localhost:8080/",
          "height": 195
        },
        "outputId": "b96053f8-a928-4100-fbcc-ed16903393f5"
      },
      "source": [
        "prices = pd.read_csv(csv_export_url)\n",
        "prices.head()"
      ],
      "execution_count": null,
      "outputs": [
        {
          "output_type": "execute_result",
          "data": {
            "text/html": [
              "<div>\n",
              "<style scoped>\n",
              "    .dataframe tbody tr th:only-of-type {\n",
              "        vertical-align: middle;\n",
              "    }\n",
              "\n",
              "    .dataframe tbody tr th {\n",
              "        vertical-align: top;\n",
              "    }\n",
              "\n",
              "    .dataframe thead th {\n",
              "        text-align: right;\n",
              "    }\n",
              "</style>\n",
              "<table border=\"1\" class=\"dataframe\">\n",
              "  <thead>\n",
              "    <tr style=\"text-align: right;\">\n",
              "      <th></th>\n",
              "      <th>Date</th>\n",
              "      <th>Open</th>\n",
              "      <th>High</th>\n",
              "      <th>Low</th>\n",
              "      <th>Close</th>\n",
              "      <th>Volume</th>\n",
              "      <th>Date.1</th>\n",
              "      <th>Open.1</th>\n",
              "    </tr>\n",
              "  </thead>\n",
              "  <tbody>\n",
              "    <tr>\n",
              "      <th>0</th>\n",
              "      <td>1/3/2005 15:30:00</td>\n",
              "      <td>166.93</td>\n",
              "      <td>169.59</td>\n",
              "      <td>166.93</td>\n",
              "      <td>169.16</td>\n",
              "      <td>591771</td>\n",
              "      <td>1/4/2005 15:30:00</td>\n",
              "      <td>168.75</td>\n",
              "    </tr>\n",
              "    <tr>\n",
              "      <th>1</th>\n",
              "      <td>1/4/2005 15:30:00</td>\n",
              "      <td>168.75</td>\n",
              "      <td>169.25</td>\n",
              "      <td>166.65</td>\n",
              "      <td>167.66</td>\n",
              "      <td>622388</td>\n",
              "      <td>1/5/2005 15:30:00</td>\n",
              "      <td>167.53</td>\n",
              "    </tr>\n",
              "    <tr>\n",
              "      <th>2</th>\n",
              "      <td>1/5/2005 15:30:00</td>\n",
              "      <td>167.53</td>\n",
              "      <td>167.53</td>\n",
              "      <td>160.04</td>\n",
              "      <td>165.63</td>\n",
              "      <td>1200540</td>\n",
              "      <td>1/6/2005 15:30:00</td>\n",
              "      <td>165.00</td>\n",
              "    </tr>\n",
              "    <tr>\n",
              "      <th>3</th>\n",
              "      <td>1/6/2005 15:30:00</td>\n",
              "      <td>165.00</td>\n",
              "      <td>168.25</td>\n",
              "      <td>161.56</td>\n",
              "      <td>165.06</td>\n",
              "      <td>1000861</td>\n",
              "      <td>1/7/2005 15:30:00</td>\n",
              "      <td>166.25</td>\n",
              "    </tr>\n",
              "    <tr>\n",
              "      <th>4</th>\n",
              "      <td>1/7/2005 15:30:00</td>\n",
              "      <td>166.25</td>\n",
              "      <td>168.13</td>\n",
              "      <td>164.08</td>\n",
              "      <td>167.49</td>\n",
              "      <td>952892</td>\n",
              "      <td>1/10/2005 15:30:00</td>\n",
              "      <td>168.58</td>\n",
              "    </tr>\n",
              "  </tbody>\n",
              "</table>\n",
              "</div>"
            ],
            "text/plain": [
              "                Date    Open    High  ...   Volume              Date.1  Open.1\n",
              "0  1/3/2005 15:30:00  166.93  169.59  ...   591771   1/4/2005 15:30:00  168.75\n",
              "1  1/4/2005 15:30:00  168.75  169.25  ...   622388   1/5/2005 15:30:00  167.53\n",
              "2  1/5/2005 15:30:00  167.53  167.53  ...  1200540   1/6/2005 15:30:00  165.00\n",
              "3  1/6/2005 15:30:00  165.00  168.25  ...  1000861   1/7/2005 15:30:00  166.25\n",
              "4  1/7/2005 15:30:00  166.25  168.13  ...   952892  1/10/2005 15:30:00  168.58\n",
              "\n",
              "[5 rows x 8 columns]"
            ]
          },
          "metadata": {
            "tags": []
          },
          "execution_count": 93
        }
      ]
    },
    {
      "cell_type": "code",
      "metadata": {
        "id": "D7zRQPMJURI8",
        "colab_type": "code",
        "colab": {
          "base_uri": "https://localhost:8080/",
          "height": 195
        },
        "outputId": "9676f708-416c-41b1-cfde-def9a51c6783"
      },
      "source": [
        "data = prices.drop(['Date','Date.1'],axis=1)\n",
        "# data = prices.drop('Date.1',axis=1)\n",
        "X_normalizer = MinMaxScaler(feature_range = (0,1))\n",
        "y_normalizer = MinMaxScaler(feature_range = (0,1))\n",
        "data.head()"
      ],
      "execution_count": null,
      "outputs": [
        {
          "output_type": "execute_result",
          "data": {
            "text/html": [
              "<div>\n",
              "<style scoped>\n",
              "    .dataframe tbody tr th:only-of-type {\n",
              "        vertical-align: middle;\n",
              "    }\n",
              "\n",
              "    .dataframe tbody tr th {\n",
              "        vertical-align: top;\n",
              "    }\n",
              "\n",
              "    .dataframe thead th {\n",
              "        text-align: right;\n",
              "    }\n",
              "</style>\n",
              "<table border=\"1\" class=\"dataframe\">\n",
              "  <thead>\n",
              "    <tr style=\"text-align: right;\">\n",
              "      <th></th>\n",
              "      <th>Open</th>\n",
              "      <th>High</th>\n",
              "      <th>Low</th>\n",
              "      <th>Close</th>\n",
              "      <th>Volume</th>\n",
              "      <th>Open.1</th>\n",
              "    </tr>\n",
              "  </thead>\n",
              "  <tbody>\n",
              "    <tr>\n",
              "      <th>0</th>\n",
              "      <td>166.93</td>\n",
              "      <td>169.59</td>\n",
              "      <td>166.93</td>\n",
              "      <td>169.16</td>\n",
              "      <td>591771</td>\n",
              "      <td>168.75</td>\n",
              "    </tr>\n",
              "    <tr>\n",
              "      <th>1</th>\n",
              "      <td>168.75</td>\n",
              "      <td>169.25</td>\n",
              "      <td>166.65</td>\n",
              "      <td>167.66</td>\n",
              "      <td>622388</td>\n",
              "      <td>167.53</td>\n",
              "    </tr>\n",
              "    <tr>\n",
              "      <th>2</th>\n",
              "      <td>167.53</td>\n",
              "      <td>167.53</td>\n",
              "      <td>160.04</td>\n",
              "      <td>165.63</td>\n",
              "      <td>1200540</td>\n",
              "      <td>165.00</td>\n",
              "    </tr>\n",
              "    <tr>\n",
              "      <th>3</th>\n",
              "      <td>165.00</td>\n",
              "      <td>168.25</td>\n",
              "      <td>161.56</td>\n",
              "      <td>165.06</td>\n",
              "      <td>1000861</td>\n",
              "      <td>166.25</td>\n",
              "    </tr>\n",
              "    <tr>\n",
              "      <th>4</th>\n",
              "      <td>166.25</td>\n",
              "      <td>168.13</td>\n",
              "      <td>164.08</td>\n",
              "      <td>167.49</td>\n",
              "      <td>952892</td>\n",
              "      <td>168.58</td>\n",
              "    </tr>\n",
              "  </tbody>\n",
              "</table>\n",
              "</div>"
            ],
            "text/plain": [
              "     Open    High     Low   Close   Volume  Open.1\n",
              "0  166.93  169.59  166.93  169.16   591771  168.75\n",
              "1  168.75  169.25  166.65  167.66   622388  167.53\n",
              "2  167.53  167.53  160.04  165.63  1200540  165.00\n",
              "3  165.00  168.25  161.56  165.06  1000861  166.25\n",
              "4  166.25  168.13  164.08  167.49   952892  168.58"
            ]
          },
          "metadata": {
            "tags": []
          },
          "execution_count": 94
        }
      ]
    },
    {
      "cell_type": "code",
      "metadata": {
        "id": "Z2N8G3ykYu2A",
        "colab_type": "code",
        "colab": {}
      },
      "source": [
        "def preprocessor(X,y,window=4,test=False):\n",
        "  if test:\n",
        "    X_norm = X_normalizer.transform(X)\n",
        "    y = y.reshape(-1,1)\n",
        "    y_norm = y_normalizer.transform(y)\n",
        "  else:\n",
        "    X_norm = X_normalizer.fit_transform(X)\n",
        "    y = y.reshape(-1,1)\n",
        "    y_norm = y_normalizer.fit_transform(y)\n",
        "  pre_X = []\n",
        "  pre_y = []\n",
        "  for i in range(window,len(y)):\n",
        "    pre_X.append(X_norm[i-window:i,:])\n",
        "    pre_y.append(y_norm[i,0])\n",
        "  pre_X = np.array(pre_X)\n",
        "  pre_y = np.array(pre_y)\n",
        "  return pre_X,pre_y\n",
        "\n",
        "def data_shuffler(pre_X,pre_y,split_size=0.85):\n",
        "  concat = np.c_[pre_X.reshape(len(pre_X), -1), pre_y.reshape(len(pre_y), -1)]\n",
        "  np.random.shuffle(concat)\n",
        "  shuf_X = concat[:, :pre_X.size//len(pre_X)].reshape(pre_X.shape)\n",
        "  shuf_y = concat[:, pre_X.size//len(pre_X):].reshape(pre_y.shape)\n",
        "  train_size = int(split_size * len(pre_X))\n",
        "  train_X = shuf_X[0:train_size]\n",
        "  train_y = shuf_y[0:train_size]\n",
        "  test_X = shuf_X[train_size:]\n",
        "  test_y = shuf_y[train_size:]\n",
        "  return train_X,train_y,test_X,test_y"
      ],
      "execution_count": null,
      "outputs": []
    },
    {
      "cell_type": "code",
      "metadata": {
        "id": "KRijYpmVZJjv",
        "colab_type": "code",
        "colab": {}
      },
      "source": [
        "def step_decay(epoch):\n",
        "  initial_lrate = 0.01\n",
        "  drop = 0.3\n",
        "  epochs_drop = 5.0\n",
        "  lrate = initial_lrate * math.pow(drop, math.floor((1+epoch)/epochs_drop))\n",
        "  return lrate\n",
        "def model_build(train_X,train_y,test_X,test_y,learning_rate=0.001,epochs=50,batch_size=1,name=\"new\",comp=\"any\"):\n",
        "  model = Sequential()\n",
        "  model.add(LSTM(units = 8,return_sequences=True,input_shape = (train_X.shape[1],train_X.shape[2])))\n",
        "  model.add(LSTM(units = 4))\n",
        "  model.add(Dense(units=1,activation='linear'))\n",
        "\n",
        "  ckpt_model = 'model_'+comp+'_'+name+'.hdf5'\n",
        "  checkpoint = ModelCheckpoint(ckpt_model,monitor='val_loss',verbose=1,\n",
        "                               save_best_only=True,mode='min')\n",
        "  lrate = learning_rate\n",
        "  lrate = LearningRateScheduler(step_decay)\n",
        "  callbacks_list = [checkpoint,lrate]\n",
        "  optim = optimizers.Adam(learning_rate=learning_rate)\n",
        "  model.compile(optimizer=optim,loss = 'mean_squared_error',metrics = ['mean_absolute_error'])\n",
        "\n",
        "  history = model.fit(train_X,train_y,epochs=epochs,batch_size=batch_size,callbacks=callbacks_list,validation_data=(test_X,test_y))\n",
        "  return history,model,ckpt_model"
      ],
      "execution_count": null,
      "outputs": []
    },
    {
      "cell_type": "code",
      "metadata": {
        "id": "OSSbiW0aZRKj",
        "colab_type": "code",
        "colab": {}
      },
      "source": [
        "def predictor(model,X,y):\n",
        "  y_predict = model.predict(X)\n",
        "  y_predict = y_normalizer.inverse_transform(y_predict)\n",
        "  y_actual = y_normalizer.inverse_transform(y.reshape(-1,1))\n",
        "  plt.figure(figsize=(16,12))\n",
        "  print(y_actual.shape,y_predict.shape)\n",
        "  plt.plot(y_predict, color = 'red',label = \"Predicted\")\n",
        "  plt.plot(y_actual, color = 'blue',label = \"Actual\")\n",
        "  plt.xlabel('Days')\n",
        "  plt.ylabel('Price')\n",
        "  plt.legend()\n",
        "  return y_actual,y_predict"
      ],
      "execution_count": null,
      "outputs": []
    },
    {
      "cell_type": "code",
      "metadata": {
        "id": "dg4FgtguZTIh",
        "colab_type": "code",
        "colab": {}
      },
      "source": [
        "X = data.iloc[:-10,[1,2,3,4]].values\n",
        "y = data.iloc[:-10,0].values\n",
        "pre_X,pre_y = preprocessor(X,y,4)\n",
        "train_X,train_y,test_X,test_y = data_shuffler(pre_X,pre_y,0.85)\n",
        "history,model,model2 = model_build(train_X,train_y,test_X,test_y,learning_rate=0.001,epochs=50,batch_size=1,name='open',comp='TCS')"
      ],
      "execution_count": null,
      "outputs": []
    },
    {
      "cell_type": "code",
      "metadata": {
        "id": "7Hb0DTXGZrnp",
        "colab_type": "code",
        "colab": {}
      },
      "source": [
        "plt.plot(history.history['loss'], label='train')\n",
        "plt.plot(history.history['val_loss'], label='test')\n",
        "plt.legend()\n",
        "plt.show()"
      ],
      "execution_count": null,
      "outputs": []
    },
    {
      "cell_type": "code",
      "metadata": {
        "id": "hHM6g8GOZt1-",
        "colab_type": "code",
        "colab": {}
      },
      "source": [
        "# Predicting next 10 days\n",
        "model_ = load_model(\"/content/model_TCS_open.hdf5\")\n",
        "_X,_y = preprocessor(data.iloc[-11:,[1,2,3,4]].values,data.iloc[-11:,0].values,4,test=True)\n",
        "org,pred = predictor(model_,_X,_y)"
      ],
      "execution_count": null,
      "outputs": []
    },
    {
      "cell_type": "code",
      "metadata": {
        "id": "v7_nn5XYZuuf",
        "colab_type": "code",
        "colab": {}
      },
      "source": [
        "win = 0\n",
        "loss = 0\n",
        "for i in range(1,len(org)):\n",
        "  if pred[i] > pred[i-1] and org[i] > org[i-1]:\n",
        "    win += 1\n",
        "  elif pred[i] < pred[i-1] and org[i] < org[i-1]:\n",
        "    win += 1\n",
        "  else:\n",
        "    loss+=1\n",
        "print(win,loss)\n",
        "print(\"Trend prediction success probablity:\",((win/(win+loss))*100))\n",
        "print(\"Trend prediction loss probablity:\",((loss/(win+loss))*100))"
      ],
      "execution_count": null,
      "outputs": []
    },
    {
      "cell_type": "code",
      "metadata": {
        "id": "M_uyZrf1ooYt",
        "colab_type": "code",
        "colab": {
          "base_uri": "https://localhost:8080/",
          "height": 50
        },
        "outputId": "6721a685-554a-4a9e-c609-b1fa13815f4b"
      },
      "source": [
        "_X = data.iloc[-4:,[1,2,3,4]].values\n",
        "_y = data.iloc[-1,0]\n",
        "X_norm = X_normalizer.transform(_X)\n",
        "pre_X = []\n",
        "pre_y = []\n",
        "pre_X.append(X_norm[0:4,:])\n",
        "pre_X = np.array(pre_X)\n",
        "y_predict = model_.predict(pre_X)\n",
        "y_predict = y_normalizer.inverse_transform(y_predict)\n",
        "print(\"Next day's open:\",y_predict)\n",
        "if y_predict > _y:\n",
        "  print(\"Open has up-trend\")\n",
        "elif y_predict < _y:\n",
        "  print(\"Open has down-trend\")\n",
        "else:\n",
        "  print(\"Open has no clear trend\")"
      ],
      "execution_count": null,
      "outputs": [
        {
          "output_type": "stream",
          "text": [
            "Next day's open: [[2087.9185]]\n",
            "Open has down-trend\n"
          ],
          "name": "stdout"
        }
      ]
    },
    {
      "cell_type": "markdown",
      "metadata": {
        "id": "KXmWRQcdt-G6",
        "colab_type": "text"
      },
      "source": [
        "Close"
      ]
    },
    {
      "cell_type": "code",
      "metadata": {
        "id": "PCHtrUQgtQYR",
        "colab_type": "code",
        "colab": {
          "base_uri": "https://localhost:8080/",
          "height": 1000
        },
        "outputId": "659f5f14-723c-4345-9f62-f62843d83659"
      },
      "source": [
        "X = data.iloc[:-10,[0,1,2,4,5]].values\n",
        "y = data.iloc[:-10,3].values\n",
        "pre_X,pre_y = preprocessor(X,y,4)\n",
        "train_X,train_y,test_X,test_y = data_shuffler(pre_X,pre_y,0.85)\n",
        "history,model,model2 = model_build(train_X,train_y,test_X,test_y,learning_rate=0.001,epochs=50,batch_size=1,name='close',comp='TCS')"
      ],
      "execution_count": null,
      "outputs": [
        {
          "output_type": "stream",
          "text": [
            "Epoch 1/50\n",
            "3230/3230 [==============================] - ETA: 0s - loss: 0.0013 - mean_absolute_error: 0.0234\n",
            "Epoch 00001: val_loss improved from inf to 0.00075, saving model to model_TCS_close.hdf5\n",
            "3230/3230 [==============================] - 13s 4ms/step - loss: 0.0013 - mean_absolute_error: 0.0234 - val_loss: 7.4616e-04 - val_mean_absolute_error: 0.0221 - lr: 0.0100\n",
            "Epoch 2/50\n",
            "3217/3230 [============================>.] - ETA: 0s - loss: 7.5779e-04 - mean_absolute_error: 0.0189\n",
            "Epoch 00002: val_loss did not improve from 0.00075\n",
            "3230/3230 [==============================] - 11s 4ms/step - loss: 7.5861e-04 - mean_absolute_error: 0.0189 - val_loss: 8.9776e-04 - val_mean_absolute_error: 0.0243 - lr: 0.0100\n",
            "Epoch 3/50\n",
            "3221/3230 [============================>.] - ETA: 0s - loss: 5.2196e-04 - mean_absolute_error: 0.0159\n",
            "Epoch 00003: val_loss did not improve from 0.00075\n",
            "3230/3230 [==============================] - 11s 4ms/step - loss: 5.2586e-04 - mean_absolute_error: 0.0159 - val_loss: 8.8227e-04 - val_mean_absolute_error: 0.0221 - lr: 0.0100\n",
            "Epoch 4/50\n",
            "3227/3230 [============================>.] - ETA: 0s - loss: 5.7593e-04 - mean_absolute_error: 0.0165\n",
            "Epoch 00004: val_loss did not improve from 0.00075\n",
            "3230/3230 [==============================] - 11s 4ms/step - loss: 5.7540e-04 - mean_absolute_error: 0.0165 - val_loss: 0.0011 - val_mean_absolute_error: 0.0271 - lr: 0.0100\n",
            "Epoch 5/50\n",
            "3227/3230 [============================>.] - ETA: 0s - loss: 1.8285e-04 - mean_absolute_error: 0.0094\n",
            "Epoch 00005: val_loss improved from 0.00075 to 0.00020, saving model to model_TCS_close.hdf5\n",
            "3230/3230 [==============================] - 12s 4ms/step - loss: 1.8272e-04 - mean_absolute_error: 0.0094 - val_loss: 2.0466e-04 - val_mean_absolute_error: 0.0109 - lr: 0.0030\n",
            "Epoch 6/50\n",
            "3218/3230 [============================>.] - ETA: 0s - loss: 1.7781e-04 - mean_absolute_error: 0.0091\n",
            "Epoch 00006: val_loss did not improve from 0.00020\n",
            "3230/3230 [==============================] - 12s 4ms/step - loss: 1.7997e-04 - mean_absolute_error: 0.0092 - val_loss: 3.1849e-04 - val_mean_absolute_error: 0.0129 - lr: 0.0030\n",
            "Epoch 7/50\n",
            "3216/3230 [============================>.] - ETA: 0s - loss: 1.8859e-04 - mean_absolute_error: 0.0095\n",
            "Epoch 00007: val_loss improved from 0.00020 to 0.00019, saving model to model_TCS_close.hdf5\n",
            "3230/3230 [==============================] - 12s 4ms/step - loss: 1.8814e-04 - mean_absolute_error: 0.0095 - val_loss: 1.8530e-04 - val_mean_absolute_error: 0.0098 - lr: 0.0030\n",
            "Epoch 8/50\n",
            "3228/3230 [============================>.] - ETA: 0s - loss: 1.8435e-04 - mean_absolute_error: 0.0094\n",
            "Epoch 00008: val_loss improved from 0.00019 to 0.00018, saving model to model_TCS_close.hdf5\n",
            "3230/3230 [==============================] - 12s 4ms/step - loss: 1.8447e-04 - mean_absolute_error: 0.0094 - val_loss: 1.8040e-04 - val_mean_absolute_error: 0.0106 - lr: 0.0030\n",
            "Epoch 9/50\n",
            "3229/3230 [============================>.] - ETA: 0s - loss: 1.9293e-04 - mean_absolute_error: 0.0095\n",
            "Epoch 00009: val_loss did not improve from 0.00018\n",
            "3230/3230 [==============================] - 12s 4ms/step - loss: 1.9458e-04 - mean_absolute_error: 0.0095 - val_loss: 6.9294e-04 - val_mean_absolute_error: 0.0188 - lr: 0.0030\n",
            "Epoch 10/50\n",
            "3223/3230 [============================>.] - ETA: 0s - loss: 1.3887e-04 - mean_absolute_error: 0.0076\n",
            "Epoch 00010: val_loss improved from 0.00018 to 0.00014, saving model to model_TCS_close.hdf5\n",
            "3230/3230 [==============================] - 12s 4ms/step - loss: 1.3863e-04 - mean_absolute_error: 0.0076 - val_loss: 1.3880e-04 - val_mean_absolute_error: 0.0076 - lr: 9.0000e-04\n",
            "Epoch 11/50\n",
            "3226/3230 [============================>.] - ETA: 0s - loss: 1.3432e-04 - mean_absolute_error: 0.0076\n",
            "Epoch 00011: val_loss did not improve from 0.00014\n",
            "3230/3230 [==============================] - 12s 4ms/step - loss: 1.3420e-04 - mean_absolute_error: 0.0076 - val_loss: 1.5965e-04 - val_mean_absolute_error: 0.0085 - lr: 9.0000e-04\n",
            "Epoch 12/50\n",
            "3222/3230 [============================>.] - ETA: 0s - loss: 1.3590e-04 - mean_absolute_error: 0.0076\n",
            "Epoch 00012: val_loss did not improve from 0.00014\n",
            "3230/3230 [==============================] - 12s 4ms/step - loss: 1.3604e-04 - mean_absolute_error: 0.0076 - val_loss: 1.4330e-04 - val_mean_absolute_error: 0.0079 - lr: 9.0000e-04\n",
            "Epoch 13/50\n",
            "3229/3230 [============================>.] - ETA: 0s - loss: 1.2992e-04 - mean_absolute_error: 0.0075\n",
            "Epoch 00013: val_loss did not improve from 0.00014\n",
            "3230/3230 [==============================] - 11s 3ms/step - loss: 1.3009e-04 - mean_absolute_error: 0.0075 - val_loss: 1.4636e-04 - val_mean_absolute_error: 0.0080 - lr: 9.0000e-04\n",
            "Epoch 14/50\n",
            "3226/3230 [============================>.] - ETA: 0s - loss: 1.3568e-04 - mean_absolute_error: 0.0075\n",
            "Epoch 00014: val_loss did not improve from 0.00014\n",
            "3230/3230 [==============================] - 11s 3ms/step - loss: 1.3555e-04 - mean_absolute_error: 0.0075 - val_loss: 1.7132e-04 - val_mean_absolute_error: 0.0089 - lr: 9.0000e-04\n",
            "Epoch 15/50\n",
            "3221/3230 [============================>.] - ETA: 0s - loss: 1.2118e-04 - mean_absolute_error: 0.0070\n",
            "Epoch 00015: val_loss improved from 0.00014 to 0.00013, saving model to model_TCS_close.hdf5\n",
            "3230/3230 [==============================] - 11s 4ms/step - loss: 1.2092e-04 - mean_absolute_error: 0.0070 - val_loss: 1.2798e-04 - val_mean_absolute_error: 0.0072 - lr: 2.7000e-04\n",
            "Epoch 16/50\n",
            "3222/3230 [============================>.] - ETA: 0s - loss: 1.2139e-04 - mean_absolute_error: 0.0070\n",
            "Epoch 00016: val_loss did not improve from 0.00013\n",
            "3230/3230 [==============================] - 11s 3ms/step - loss: 1.2131e-04 - mean_absolute_error: 0.0070 - val_loss: 1.3234e-04 - val_mean_absolute_error: 0.0074 - lr: 2.7000e-04\n",
            "Epoch 17/50\n",
            "3230/3230 [==============================] - ETA: 0s - loss: 1.1981e-04 - mean_absolute_error: 0.0070\n",
            "Epoch 00017: val_loss did not improve from 0.00013\n",
            "3230/3230 [==============================] - 12s 4ms/step - loss: 1.1981e-04 - mean_absolute_error: 0.0070 - val_loss: 1.3359e-04 - val_mean_absolute_error: 0.0074 - lr: 2.7000e-04\n",
            "Epoch 18/50\n",
            "3226/3230 [============================>.] - ETA: 0s - loss: 1.1964e-04 - mean_absolute_error: 0.0070\n",
            "Epoch 00018: val_loss did not improve from 0.00013\n",
            "3230/3230 [==============================] - 11s 3ms/step - loss: 1.1960e-04 - mean_absolute_error: 0.0070 - val_loss: 1.2850e-04 - val_mean_absolute_error: 0.0072 - lr: 2.7000e-04\n",
            "Epoch 19/50\n",
            "3226/3230 [============================>.] - ETA: 0s - loss: 1.2019e-04 - mean_absolute_error: 0.0070\n",
            "Epoch 00019: val_loss did not improve from 0.00013\n",
            "3230/3230 [==============================] - 11s 3ms/step - loss: 1.2015e-04 - mean_absolute_error: 0.0070 - val_loss: 1.2970e-04 - val_mean_absolute_error: 0.0074 - lr: 2.7000e-04\n",
            "Epoch 20/50\n",
            "3219/3230 [============================>.] - ETA: 0s - loss: 1.1582e-04 - mean_absolute_error: 0.0069\n",
            "Epoch 00020: val_loss did not improve from 0.00013\n",
            "3230/3230 [==============================] - 11s 3ms/step - loss: 1.1555e-04 - mean_absolute_error: 0.0069 - val_loss: 1.3006e-04 - val_mean_absolute_error: 0.0073 - lr: 8.1000e-05\n",
            "Epoch 21/50\n",
            "3228/3230 [============================>.] - ETA: 0s - loss: 1.1522e-04 - mean_absolute_error: 0.0068\n",
            "Epoch 00021: val_loss improved from 0.00013 to 0.00013, saving model to model_TCS_close.hdf5\n",
            "3230/3230 [==============================] - 11s 3ms/step - loss: 1.1520e-04 - mean_absolute_error: 0.0068 - val_loss: 1.2770e-04 - val_mean_absolute_error: 0.0072 - lr: 8.1000e-05\n",
            "Epoch 22/50\n",
            "3229/3230 [============================>.] - ETA: 0s - loss: 1.1568e-04 - mean_absolute_error: 0.0069\n",
            "Epoch 00022: val_loss improved from 0.00013 to 0.00013, saving model to model_TCS_close.hdf5\n",
            "3230/3230 [==============================] - 11s 3ms/step - loss: 1.1570e-04 - mean_absolute_error: 0.0069 - val_loss: 1.2689e-04 - val_mean_absolute_error: 0.0072 - lr: 8.1000e-05\n",
            "Epoch 23/50\n",
            "3216/3230 [============================>.] - ETA: 0s - loss: 1.1446e-04 - mean_absolute_error: 0.0068\n",
            "Epoch 00023: val_loss did not improve from 0.00013\n",
            "3230/3230 [==============================] - 11s 3ms/step - loss: 1.1495e-04 - mean_absolute_error: 0.0069 - val_loss: 1.2697e-04 - val_mean_absolute_error: 0.0072 - lr: 8.1000e-05\n",
            "Epoch 24/50\n",
            "3228/3230 [============================>.] - ETA: 0s - loss: 1.1540e-04 - mean_absolute_error: 0.0069\n",
            "Epoch 00024: val_loss improved from 0.00013 to 0.00013, saving model to model_TCS_close.hdf5\n",
            "3230/3230 [==============================] - 11s 3ms/step - loss: 1.1536e-04 - mean_absolute_error: 0.0069 - val_loss: 1.2680e-04 - val_mean_absolute_error: 0.0072 - lr: 8.1000e-05\n",
            "Epoch 25/50\n",
            "3226/3230 [============================>.] - ETA: 0s - loss: 1.1359e-04 - mean_absolute_error: 0.0068\n",
            "Epoch 00025: val_loss did not improve from 0.00013\n",
            "3230/3230 [==============================] - 11s 3ms/step - loss: 1.1348e-04 - mean_absolute_error: 0.0068 - val_loss: 1.2858e-04 - val_mean_absolute_error: 0.0073 - lr: 2.4300e-05\n",
            "Epoch 26/50\n",
            "3222/3230 [============================>.] - ETA: 0s - loss: 1.1438e-04 - mean_absolute_error: 0.0068\n",
            "Epoch 00026: val_loss did not improve from 0.00013\n",
            "3230/3230 [==============================] - 11s 3ms/step - loss: 1.1419e-04 - mean_absolute_error: 0.0068 - val_loss: 1.2683e-04 - val_mean_absolute_error: 0.0072 - lr: 2.4300e-05\n",
            "Epoch 27/50\n",
            "3224/3230 [============================>.] - ETA: 0s - loss: 1.1390e-04 - mean_absolute_error: 0.0068\n",
            "Epoch 00027: val_loss did not improve from 0.00013\n",
            "3230/3230 [==============================] - 11s 3ms/step - loss: 1.1372e-04 - mean_absolute_error: 0.0068 - val_loss: 1.2697e-04 - val_mean_absolute_error: 0.0072 - lr: 2.4300e-05\n",
            "Epoch 28/50\n",
            "3226/3230 [============================>.] - ETA: 0s - loss: 1.1393e-04 - mean_absolute_error: 0.0068\n",
            "Epoch 00028: val_loss improved from 0.00013 to 0.00013, saving model to model_TCS_close.hdf5\n",
            "3230/3230 [==============================] - 12s 4ms/step - loss: 1.1381e-04 - mean_absolute_error: 0.0068 - val_loss: 1.2675e-04 - val_mean_absolute_error: 0.0072 - lr: 2.4300e-05\n",
            "Epoch 29/50\n",
            "3220/3230 [============================>.] - ETA: 0s - loss: 1.1432e-04 - mean_absolute_error: 0.0068\n",
            "Epoch 00029: val_loss improved from 0.00013 to 0.00013, saving model to model_TCS_close.hdf5\n",
            "3230/3230 [==============================] - 11s 3ms/step - loss: 1.1406e-04 - mean_absolute_error: 0.0068 - val_loss: 1.2674e-04 - val_mean_absolute_error: 0.0072 - lr: 2.4300e-05\n",
            "Epoch 30/50\n",
            "3230/3230 [==============================] - ETA: 0s - loss: 1.1349e-04 - mean_absolute_error: 0.0068\n",
            "Epoch 00030: val_loss improved from 0.00013 to 0.00013, saving model to model_TCS_close.hdf5\n",
            "3230/3230 [==============================] - 11s 3ms/step - loss: 1.1349e-04 - mean_absolute_error: 0.0068 - val_loss: 1.2673e-04 - val_mean_absolute_error: 0.0072 - lr: 7.2900e-06\n",
            "Epoch 31/50\n",
            "3218/3230 [============================>.] - ETA: 0s - loss: 1.1263e-04 - mean_absolute_error: 0.0068\n",
            "Epoch 00031: val_loss did not improve from 0.00013\n",
            "3230/3230 [==============================] - 11s 3ms/step - loss: 1.1348e-04 - mean_absolute_error: 0.0068 - val_loss: 1.2679e-04 - val_mean_absolute_error: 0.0072 - lr: 7.2900e-06\n",
            "Epoch 32/50\n",
            "3224/3230 [============================>.] - ETA: 0s - loss: 1.1356e-04 - mean_absolute_error: 0.0068\n",
            "Epoch 00032: val_loss did not improve from 0.00013\n",
            "3230/3230 [==============================] - 11s 3ms/step - loss: 1.1348e-04 - mean_absolute_error: 0.0068 - val_loss: 1.2689e-04 - val_mean_absolute_error: 0.0072 - lr: 7.2900e-06\n",
            "Epoch 33/50\n",
            "3229/3230 [============================>.] - ETA: 0s - loss: 1.1351e-04 - mean_absolute_error: 0.0068\n",
            "Epoch 00033: val_loss did not improve from 0.00013\n",
            "3230/3230 [==============================] - 11s 3ms/step - loss: 1.1348e-04 - mean_absolute_error: 0.0068 - val_loss: 1.2692e-04 - val_mean_absolute_error: 0.0072 - lr: 7.2900e-06\n",
            "Epoch 34/50\n",
            "3224/3230 [============================>.] - ETA: 0s - loss: 1.1359e-04 - mean_absolute_error: 0.0068\n",
            "Epoch 00034: val_loss did not improve from 0.00013\n",
            "3230/3230 [==============================] - 11s 3ms/step - loss: 1.1346e-04 - mean_absolute_error: 0.0068 - val_loss: 1.2676e-04 - val_mean_absolute_error: 0.0072 - lr: 7.2900e-06\n",
            "Epoch 35/50\n",
            "3219/3230 [============================>.] - ETA: 0s - loss: 1.1357e-04 - mean_absolute_error: 0.0068\n",
            "Epoch 00035: val_loss did not improve from 0.00013\n",
            "3230/3230 [==============================] - 11s 3ms/step - loss: 1.1326e-04 - mean_absolute_error: 0.0068 - val_loss: 1.2689e-04 - val_mean_absolute_error: 0.0072 - lr: 2.1870e-06\n",
            "Epoch 36/50\n",
            "3215/3230 [============================>.] - ETA: 0s - loss: 1.1321e-04 - mean_absolute_error: 0.0068\n",
            "Epoch 00036: val_loss did not improve from 0.00013\n",
            "3230/3230 [==============================] - 11s 3ms/step - loss: 1.1328e-04 - mean_absolute_error: 0.0068 - val_loss: 1.2689e-04 - val_mean_absolute_error: 0.0072 - lr: 2.1870e-06\n",
            "Epoch 37/50\n",
            "3216/3230 [============================>.] - ETA: 0s - loss: 1.1262e-04 - mean_absolute_error: 0.0068\n",
            "Epoch 00037: val_loss did not improve from 0.00013\n",
            "3230/3230 [==============================] - 11s 3ms/step - loss: 1.1328e-04 - mean_absolute_error: 0.0068 - val_loss: 1.2681e-04 - val_mean_absolute_error: 0.0072 - lr: 2.1870e-06\n",
            "Epoch 38/50\n",
            "3230/3230 [==============================] - ETA: 0s - loss: 1.1328e-04 - mean_absolute_error: 0.0068\n",
            "Epoch 00038: val_loss did not improve from 0.00013\n",
            "3230/3230 [==============================] - 11s 3ms/step - loss: 1.1328e-04 - mean_absolute_error: 0.0068 - val_loss: 1.2686e-04 - val_mean_absolute_error: 0.0072 - lr: 2.1870e-06\n",
            "Epoch 39/50\n",
            "3221/3230 [============================>.] - ETA: 0s - loss: 1.1319e-04 - mean_absolute_error: 0.0068\n",
            "Epoch 00039: val_loss did not improve from 0.00013\n",
            "3230/3230 [==============================] - 11s 3ms/step - loss: 1.1329e-04 - mean_absolute_error: 0.0068 - val_loss: 1.2688e-04 - val_mean_absolute_error: 0.0072 - lr: 2.1870e-06\n",
            "Epoch 40/50\n",
            "3213/3230 [============================>.] - ETA: 0s - loss: 1.1167e-04 - mean_absolute_error: 0.0068\n",
            "Epoch 00040: val_loss did not improve from 0.00013\n",
            "3230/3230 [==============================] - 11s 3ms/step - loss: 1.1323e-04 - mean_absolute_error: 0.0068 - val_loss: 1.2687e-04 - val_mean_absolute_error: 0.0072 - lr: 6.5610e-07\n",
            "Epoch 41/50\n",
            "3217/3230 [============================>.] - ETA: 0s - loss: 1.1346e-04 - mean_absolute_error: 0.0068\n",
            "Epoch 00041: val_loss did not improve from 0.00013\n",
            "3230/3230 [==============================] - 11s 3ms/step - loss: 1.1322e-04 - mean_absolute_error: 0.0068 - val_loss: 1.2687e-04 - val_mean_absolute_error: 0.0072 - lr: 6.5610e-07\n",
            "Epoch 42/50\n",
            "3230/3230 [==============================] - ETA: 0s - loss: 1.1322e-04 - mean_absolute_error: 0.0068\n",
            "Epoch 00042: val_loss did not improve from 0.00013\n",
            "3230/3230 [==============================] - 11s 3ms/step - loss: 1.1322e-04 - mean_absolute_error: 0.0068 - val_loss: 1.2686e-04 - val_mean_absolute_error: 0.0072 - lr: 6.5610e-07\n",
            "Epoch 43/50\n",
            "3218/3230 [============================>.] - ETA: 0s - loss: 1.1334e-04 - mean_absolute_error: 0.0068\n",
            "Epoch 00043: val_loss did not improve from 0.00013\n",
            "3230/3230 [==============================] - 11s 4ms/step - loss: 1.1323e-04 - mean_absolute_error: 0.0068 - val_loss: 1.2685e-04 - val_mean_absolute_error: 0.0072 - lr: 6.5610e-07\n",
            "Epoch 44/50\n",
            "3224/3230 [============================>.] - ETA: 0s - loss: 1.1342e-04 - mean_absolute_error: 0.0068\n",
            "Epoch 00044: val_loss did not improve from 0.00013\n",
            "3230/3230 [==============================] - 11s 3ms/step - loss: 1.1322e-04 - mean_absolute_error: 0.0068 - val_loss: 1.2685e-04 - val_mean_absolute_error: 0.0072 - lr: 6.5610e-07\n",
            "Epoch 45/50\n",
            "3221/3230 [============================>.] - ETA: 0s - loss: 1.1321e-04 - mean_absolute_error: 0.0068\n",
            "Epoch 00045: val_loss did not improve from 0.00013\n",
            "3230/3230 [==============================] - 12s 4ms/step - loss: 1.1320e-04 - mean_absolute_error: 0.0068 - val_loss: 1.2685e-04 - val_mean_absolute_error: 0.0072 - lr: 1.9683e-07\n",
            "Epoch 46/50\n",
            "3227/3230 [============================>.] - ETA: 0s - loss: 1.1331e-04 - mean_absolute_error: 0.0068\n",
            "Epoch 00046: val_loss did not improve from 0.00013\n",
            "3230/3230 [==============================] - 11s 3ms/step - loss: 1.1320e-04 - mean_absolute_error: 0.0068 - val_loss: 1.2685e-04 - val_mean_absolute_error: 0.0072 - lr: 1.9683e-07\n",
            "Epoch 47/50\n",
            "3223/3230 [============================>.] - ETA: 0s - loss: 1.1343e-04 - mean_absolute_error: 0.0068\n",
            "Epoch 00047: val_loss did not improve from 0.00013\n",
            "3230/3230 [==============================] - 11s 3ms/step - loss: 1.1320e-04 - mean_absolute_error: 0.0068 - val_loss: 1.2685e-04 - val_mean_absolute_error: 0.0072 - lr: 1.9683e-07\n",
            "Epoch 48/50\n",
            "3222/3230 [============================>.] - ETA: 0s - loss: 1.1326e-04 - mean_absolute_error: 0.0068\n",
            "Epoch 00048: val_loss did not improve from 0.00013\n",
            "3230/3230 [==============================] - 11s 3ms/step - loss: 1.1320e-04 - mean_absolute_error: 0.0068 - val_loss: 1.2685e-04 - val_mean_absolute_error: 0.0072 - lr: 1.9683e-07\n",
            "Epoch 49/50\n",
            "3226/3230 [============================>.] - ETA: 0s - loss: 1.1304e-04 - mean_absolute_error: 0.0068\n",
            "Epoch 00049: val_loss did not improve from 0.00013\n",
            "3230/3230 [==============================] - 12s 4ms/step - loss: 1.1320e-04 - mean_absolute_error: 0.0068 - val_loss: 1.2684e-04 - val_mean_absolute_error: 0.0072 - lr: 1.9683e-07\n",
            "Epoch 50/50\n",
            "3217/3230 [============================>.] - ETA: 0s - loss: 1.1335e-04 - mean_absolute_error: 0.0068\n",
            "Epoch 00050: val_loss did not improve from 0.00013\n",
            "3230/3230 [==============================] - 12s 4ms/step - loss: 1.1320e-04 - mean_absolute_error: 0.0068 - val_loss: 1.2684e-04 - val_mean_absolute_error: 0.0072 - lr: 5.9049e-08\n"
          ],
          "name": "stdout"
        }
      ]
    },
    {
      "cell_type": "code",
      "metadata": {
        "id": "U5Auk6CtuCG0",
        "colab_type": "code",
        "colab": {
          "base_uri": "https://localhost:8080/",
          "height": 265
        },
        "outputId": "deb4af50-a776-4cdb-8f3d-2b02de526782"
      },
      "source": [
        "plt.plot(history.history['loss'], label='train')\n",
        "plt.plot(history.history['val_loss'], label='test')\n",
        "plt.legend()\n",
        "plt.show()"
      ],
      "execution_count": null,
      "outputs": [
        {
          "output_type": "display_data",
          "data": {
            "image/png": "[encoded data removed]",
            "text/plain": [
              "<Figure size 432x288 with 1 Axes>"
            ]
          },
          "metadata": {
            "tags": [],
            "needs_background": "light"
          }
        }
      ]
    },
    {
      "cell_type": "code",
      "metadata": {
        "id": "_EuuHY3-udVe",
        "colab_type": "code",
        "colab": {
          "base_uri": "https://localhost:8080/",
          "height": 731
        },
        "outputId": "d413ef08-cfb9-42d5-e706-a4104e8a5e27"
      },
      "source": [
        "# Predicting next 10 days\n",
        "model_ = load_model(\"/content/model_TCS_close.hdf5\")\n",
        "_X,_y = preprocessor(data.iloc[-11:,[0,1,2,4,5]].values,data.iloc[-11:,3].values,4,test=True)\n",
        "org,pred = predictor(model_,_X,_y)"
      ],
      "execution_count": null,
      "outputs": [
        {
          "output_type": "stream",
          "text": [
            "(8, 1) (8, 1)\n"
          ],
          "name": "stdout"
        },
        {
          "output_type": "display_data",
          "data": {
            "image/png": "[encoded data removed]",
            "text/plain": [
              "<Figure size 1152x864 with 1 Axes>"
            ]
          },
          "metadata": {
            "tags": [],
            "needs_background": "light"
          }
        }
      ]
    },
    {
      "cell_type": "code",
      "metadata": {
        "id": "-xJ_TbllunL-",
        "colab_type": "code",
        "colab": {
          "base_uri": "https://localhost:8080/",
          "height": 67
        },
        "outputId": "7293d7d7-1326-49f4-f876-3d0f354215a2"
      },
      "source": [
        "win = 0\n",
        "loss = 0\n",
        "for i in range(1,len(org)):\n",
        "  if pred[i] > pred[i-1] and org[i] > org[i-1]:\n",
        "    win += 1\n",
        "  elif pred[i] < pred[i-1] and org[i] < org[i-1]:\n",
        "    win += 1\n",
        "  else:\n",
        "    loss+=1\n",
        "print(win,loss)\n",
        "print(\"Trend prediction success probablity:\",((win/(win+loss))*100))\n",
        "print(\"Trend prediction loss probablity:\",((loss/(win+loss))*100))"
      ],
      "execution_count": null,
      "outputs": [
        {
          "output_type": "stream",
          "text": [
            "2 3\n",
            "Trend prediction success probablity: 40.0\n",
            "Trend prediction loss probablity: 60.0\n"
          ],
          "name": "stdout"
        }
      ]
    },
    {
      "cell_type": "code",
      "metadata": {
        "id": "PQpTMhchupoR",
        "colab_type": "code",
        "colab": {
          "base_uri": "https://localhost:8080/",
          "height": 50
        },
        "outputId": "4effd197-5637-46c8-de6a-82076b67a2cd"
      },
      "source": [
        "_X = data.iloc[-4:,[0,1,2,4,5]].values\n",
        "_y = data.iloc[-1,3]\n",
        "X_norm = X_normalizer.transform(_X)\n",
        "pre_X = []\n",
        "pre_y = []\n",
        "pre_X.append(X_norm[0:4,:])\n",
        "pre_X = np.array(pre_X)\n",
        "y_predict = model_.predict(pre_X)\n",
        "y_predict = y_normalizer.inverse_transform(y_predict)\n",
        "print(\"Next day's open:\",y_predict)\n",
        "if y_predict > _y:\n",
        "  print(\"Open has up-trend\")\n",
        "elif y_predict < _y:\n",
        "  print(\"Open has down-trend\")\n",
        "else:\n",
        "  print(\"Open has no clear trend\")"
      ],
      "execution_count": null,
      "outputs": [
        {
          "output_type": "stream",
          "text": [
            "Next day's open: [[2103.038]]\n",
            "Open has up-trend\n"
          ],
          "name": "stdout"
        }
      ]
    },
    {
      "cell_type": "code",
      "metadata": {
        "id": "0Ro_xvNkuxvC",
        "colab_type": "code",
        "colab": {}
      },
      "source": [
        "train.isnull().sum()/len(train)*100\n",
        "train.var()\n",
        "df.corr()"
      ],
      "execution_count": null,
      "outputs": []
    }
  ]
}