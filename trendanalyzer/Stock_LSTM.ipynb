{
  "nbformat": 4,
  "nbformat_minor": 0,
  "metadata": {
    "colab": {
      "name": "Stock_LSTM2.ipynb",
      "provenance": [],
      "collapsed_sections": [],
      "authorship_tag": "ABX9TyMSxJHDFEYcjd84U6gBz9H8",
      "include_colab_link": true
    },
    "kernelspec": {
      "name": "python3",
      "display_name": "Python 3"
    }
  },
  "cells": [
    {
      "cell_type": "markdown",
      "metadata": {
        "id": "view-in-github",
        "colab_type": "text"
      },
      "source": [
        "<a href=\"https://colab.research.google.com/github/Leos1999/MarketTrendAnalyser/blob/master/Stock_LSTM.ipynb\" target=\"_parent\"><img src=\"https://colab.research.google.com/assets/colab-badge.svg\" alt=\"Open In Colab\"/></a>"
      ]
    },
    {
      "cell_type": "code",
      "metadata": {
        "id": "8r7FPqHpBgee",
        "colab_type": "code",
        "colab": {
          "base_uri": "https://localhost:8080/",
          "height": 155
        },
        "outputId": "961c2fc3-1840-4666-bee5-4f308c5bb956"
      },
      "source": [
        "import os\n",
        "os.environ['KAGGLE_USERNAME'] = \"leosabraham\" # username from the json file\n",
        "os.environ['KAGGLE_KEY'] = \"9e8785651868d3ca4384269a20773ea2\" # key from the json file\n",
        "!kaggle datasets download -d leosabraham/stock-intern\n",
        "!unzip /content/stock-intern.zip"
      ],
      "execution_count": null,
      "outputs": [
        {
          "output_type": "stream",
          "text": [
            "Downloading stock-intern.zip to /content\n",
            " 29% 9.00M/30.7M [00:00<00:01, 16.2MB/s]\n",
            "100% 30.7M/30.7M [00:00<00:00, 42.0MB/s]\n",
            "Archive:  /content/stock-intern.zip\n",
            "  inflating: fundamentals.csv        \n",
            "  inflating: prices-split-adjusted.csv  \n",
            "  inflating: prices.csv              \n",
            "  inflating: securities.csv          \n"
          ],
          "name": "stdout"
        }
      ]
    },
    {
      "cell_type": "code",
      "metadata": {
        "id": "El4PFHM7BmpQ",
        "colab_type": "code",
        "colab": {}
      },
      "source": [
        "import pandas as pd\n",
        "import numpy as np\n",
        "import math\n",
        "import matplotlib.pyplot as plt\n",
        "from sklearn.preprocessing import MinMaxScaler\n",
        "from tensorflow.keras.models import Sequential\n",
        "from tensorflow.keras.layers import Dense, LSTM, Dropout\n",
        "from tensorflow.keras.callbacks import ModelCheckpoint\n",
        "from sklearn.metrics import mean_squared_error\n",
        "from tensorflow.keras import optimizers\n",
        "from tensorflow.keras.models import load_model"
      ],
      "execution_count": null,
      "outputs": []
    },
    {
      "cell_type": "code",
      "metadata": {
        "id": "rOnGuhxmBquG",
        "colab_type": "code",
        "colab": {}
      },
      "source": [
        "prices = pd.read_csv(\"/content/prices-split-adjusted.csv\")"
      ],
      "execution_count": null,
      "outputs": []
    },
    {
      "cell_type": "code",
      "metadata": {
        "id": "0mJU9mijBs3X",
        "colab_type": "code",
        "colab": {}
      },
      "source": [
        "data = prices.loc[prices['symbol']=='CAT']\n",
        "# data = data.drop('date',axis=1)\n",
        "# data = data.drop('symbol',axis=1)"
      ],
      "execution_count": null,
      "outputs": []
    },
    {
      "cell_type": "code",
      "metadata": {
        "id": "zh4bfYANHZAK",
        "colab_type": "code",
        "colab": {
          "base_uri": "https://localhost:8080/",
          "height": 198
        },
        "outputId": "f588ae70-0c08-41f4-de14-42bdf95f71ee"
      },
      "source": [
        "data.head()"
      ],
      "execution_count": null,
      "outputs": [
        {
          "output_type": "execute_result",
          "data": {
            "text/html": [
              "<div>\n",
              "<style scoped>\n",
              "    .dataframe tbody tr th:only-of-type {\n",
              "        vertical-align: middle;\n",
              "    }\n",
              "\n",
              "    .dataframe tbody tr th {\n",
              "        vertical-align: top;\n",
              "    }\n",
              "\n",
              "    .dataframe thead th {\n",
              "        text-align: right;\n",
              "    }\n",
              "</style>\n",
              "<table border=\"1\" class=\"dataframe\">\n",
              "  <thead>\n",
              "    <tr style=\"text-align: right;\">\n",
              "      <th></th>\n",
              "      <th>date</th>\n",
              "      <th>symbol</th>\n",
              "      <th>open</th>\n",
              "      <th>close</th>\n",
              "      <th>low</th>\n",
              "      <th>high</th>\n",
              "      <th>volume</th>\n",
              "    </tr>\n",
              "  </thead>\n",
              "  <tbody>\n",
              "    <tr>\n",
              "      <th>323</th>\n",
              "      <td>2010-01-04</td>\n",
              "      <td>CAT</td>\n",
              "      <td>57.650002</td>\n",
              "      <td>58.549999</td>\n",
              "      <td>57.509998</td>\n",
              "      <td>59.189999</td>\n",
              "      <td>7325600.0</td>\n",
              "    </tr>\n",
              "    <tr>\n",
              "      <th>790</th>\n",
              "      <td>2010-01-05</td>\n",
              "      <td>CAT</td>\n",
              "      <td>58.549999</td>\n",
              "      <td>59.250000</td>\n",
              "      <td>58.230000</td>\n",
              "      <td>59.439999</td>\n",
              "      <td>5697200.0</td>\n",
              "    </tr>\n",
              "    <tr>\n",
              "      <th>1258</th>\n",
              "      <td>2010-01-06</td>\n",
              "      <td>CAT</td>\n",
              "      <td>59.180000</td>\n",
              "      <td>59.430000</td>\n",
              "      <td>59.049999</td>\n",
              "      <td>59.930000</td>\n",
              "      <td>4718800.0</td>\n",
              "    </tr>\n",
              "    <tr>\n",
              "      <th>1726</th>\n",
              "      <td>2010-01-07</td>\n",
              "      <td>CAT</td>\n",
              "      <td>59.299999</td>\n",
              "      <td>59.669998</td>\n",
              "      <td>58.650002</td>\n",
              "      <td>59.900002</td>\n",
              "      <td>5432900.0</td>\n",
              "    </tr>\n",
              "    <tr>\n",
              "      <th>2194</th>\n",
              "      <td>2010-01-08</td>\n",
              "      <td>CAT</td>\n",
              "      <td>59.250000</td>\n",
              "      <td>60.340000</td>\n",
              "      <td>59.250000</td>\n",
              "      <td>60.369999</td>\n",
              "      <td>6651300.0</td>\n",
              "    </tr>\n",
              "  </tbody>\n",
              "</table>\n",
              "</div>"
            ],
            "text/plain": [
              "            date symbol       open      close        low       high     volume\n",
              "323   2010-01-04    CAT  57.650002  58.549999  57.509998  59.189999  7325600.0\n",
              "790   2010-01-05    CAT  58.549999  59.250000  58.230000  59.439999  5697200.0\n",
              "1258  2010-01-06    CAT  59.180000  59.430000  59.049999  59.930000  4718800.0\n",
              "1726  2010-01-07    CAT  59.299999  59.669998  58.650002  59.900002  5432900.0\n",
              "2194  2010-01-08    CAT  59.250000  60.340000  59.250000  60.369999  6651300.0"
            ]
          },
          "metadata": {
            "tags": []
          },
          "execution_count": 6
        }
      ]
    },
    {
      "cell_type": "code",
      "metadata": {
        "id": "yKCbn4-UBxMG",
        "colab_type": "code",
        "colab": {}
      },
      "source": [
        "data = data.iloc[:,3].values.reshape(-1,1)\n",
        "data.shape\n",
        "scaler = MinMaxScaler(feature_range = (0, 1))"
      ],
      "execution_count": null,
      "outputs": []
    },
    {
      "cell_type": "code",
      "metadata": {
        "id": "XExc8KinB5bc",
        "colab_type": "code",
        "colab": {}
      },
      "source": [
        "def train_test_split_norm(data):\n",
        "  data_norm = scaler.fit_transform(data)\n",
        "\n",
        "  size = 0.85\n",
        "  train_size = int(len(data_norm) * size)\n",
        "  test_size = len(data_norm) - train_size\n",
        "  train, test = data_norm[0:train_size, :], data_norm[train_size:len(data_norm), :]\n",
        "  # print(\"Number of entries (training set, test set): \" + str((len(train), len(test))))\n",
        "  return train,test"
      ],
      "execution_count": null,
      "outputs": []
    },
    {
      "cell_type": "code",
      "metadata": {
        "id": "WuHkj55FB5gH",
        "colab_type": "code",
        "colab": {}
      },
      "source": [
        "def create_dataset(dataset, window_size):\n",
        "    data_X, data_Y = [], []\n",
        "    for i in range(len(dataset) - window_size - 1):\n",
        "        a = dataset[i:(i + window_size), 0]\n",
        "        data_X.append(a)\n",
        "        data_Y.append(dataset[i + window_size, 0])\n",
        "    return(np.array(data_X), np.array(data_Y))"
      ],
      "execution_count": null,
      "outputs": []
    },
    {
      "cell_type": "code",
      "metadata": {
        "id": "cYyZ-0HnB5jQ",
        "colab_type": "code",
        "colab": {}
      },
      "source": [
        "def window_maker(data,window_size):\n",
        "  train,test = train_test_split_norm(data)\n",
        "  train_X, train_Y = create_dataset(train, window_size)\n",
        "  test_X, test_Y = create_dataset(test, window_size)\n",
        "  # print(\"Original training data shape:\")\n",
        "  # print(train_X.shape)\n",
        "  train_X = np.reshape(train_X, (train_X.shape[0], 1, train_X.shape[1]))\n",
        "  test_X = np.reshape(test_X, (test_X.shape[0], 1, test_X.shape[1]))\n",
        "  # print(\"New training data shape:\")\n",
        "  # print(train_X.shape)\n",
        "  return train_X,train_Y,test_X,test_Y,train,test"
      ],
      "execution_count": null,
      "outputs": []
    },
    {
      "cell_type": "code",
      "metadata": {
        "id": "zECzMBjIB5mW",
        "colab_type": "code",
        "colab": {}
      },
      "source": [
        "def model_bulid(train_X,train_Y,test_X,test_Y,window_size,n1,n2):\n",
        "  model = Sequential()\n",
        "  model.add(LSTM(n1,input_shape = (1, window_size),return_sequences=True))\n",
        "  model.add(LSTM(n2,input_shape = (1, window_size)))\n",
        "  model.add(Dense(1))\n",
        "  model.compile(loss = \"mean_squared_error\", optimizer = \"adam\",metrics='mean_absolute_error')\n",
        "  history = model.fit(train_X, train_Y, epochs = 20, batch_size = 1, verbose = 0,validation_data=(test_X,test_Y))\n",
        "  # plt.plot(history.history['loss'], label='train')\n",
        "  # plt.plot(history.history['val_loss'], label='test') \n",
        "  # plt.legend()\n",
        "  # plt.show()\n",
        "  return history,model"
      ],
      "execution_count": null,
      "outputs": []
    },
    {
      "cell_type": "code",
      "metadata": {
        "id": "rShI_ii6Gf5w",
        "colab_type": "code",
        "colab": {}
      },
      "source": [
        "# plt.plot(history.history['loss'], label='train')\n",
        "# plt.plot(history.history['val_loss'], label='test')\n",
        "# plt.legend()\n",
        "# plt.show()"
      ],
      "execution_count": null,
      "outputs": []
    },
    {
      "cell_type": "code",
      "metadata": {
        "id": "2ZDnnfk1CM6n",
        "colab_type": "code",
        "colab": {}
      },
      "source": [
        "def predict_and_score(X, Y):   \n",
        "    pred = scaler.inverse_transform(model.predict(X))\n",
        "    orig_data = scaler.inverse_transform([Y])\n",
        "    score = math.sqrt(mean_squared_error(orig_data[0], pred[:, 0]))\n",
        "    return(score, pred)"
      ],
      "execution_count": null,
      "outputs": []
    },
    {
      "cell_type": "markdown",
      "metadata": {
        "id": "ei5vq4HedZNs",
        "colab_type": "text"
      },
      "source": [
        "**12**,18\n",
        "100,48\n",
        "84,10\n",
        "80,38 - \n",
        "70,15 - 51\n",
        "30,25 - 51.39\n",
        "30,5 - 51.39\n",
        "15,30 - 51.79\n",
        "5 10"
      ]
    },
    {
      "cell_type": "code",
      "metadata": {
        "id": "95MypM36-hga",
        "colab_type": "code",
        "colab": {
          "base_uri": "https://localhost:8080/",
          "height": 69
        },
        "outputId": "2ba9e66f-5251-46a2-c24b-4e7e373d593c"
      },
      "source": [
        "best_win = 0\n",
        "n1=0\n",
        "n2=0\n",
        "for k in reversed(range(5,85,5)):\n",
        "  for j in reversed(range(5,45,5)):\n",
        "    train_X,train_Y,test_X,test_Y,train,test = window_maker(data,12)\n",
        "    history,model = model_bulid(train_X,train_Y,test_X,test_Y,12,15,30)\n",
        "\n",
        "    rmse_train, train_predict = predict_and_score(train_X, train_Y)\n",
        "    rmse_test, test_predict = predict_and_score(test_X, test_Y)\n",
        "\n",
        "    #print(\"Training data score:\",rmse_train,\"RMSE for lstm size \",k)\n",
        "    #print(\"Test data score:\",rmse_test,\"RMSE for lstm size \",k)\n",
        "    pred = scaler.inverse_transform(model.predict(test_X))\n",
        "    org = scaler.inverse_transform(test)\n",
        "    org = org[12+1:]\n",
        "    win = 0\n",
        "    loss = 0\n",
        "    for i in range(1,len(pred)):\n",
        "      if pred[i] > pred[i-1] and org[i] > org[i-1]:\n",
        "        win += 1\n",
        "      elif pred[i] < pred[i-1] and org[i] < org[i-1]:\n",
        "        win += 1\n",
        "      else:\n",
        "        loss+=1\n",
        "    # print(f'\\r{k,j} iter', end='', flush=True)\n",
        "    prob = ((win/(win+loss))*100)\n",
        "    if prob > best_win:\n",
        "        model.save(\"stock_w2_l2.hdf5\")\n",
        "        best_win = prob\n",
        "        print(\"Saved current model....\")\n",
        "        n1 = k\n",
        "        n2 = j\n",
        "    if prob > 50:\n",
        "      print(\"Overall win probablity:\",round(prob,2),\" for\",k,j)\n",
        "      print(\"Test data score:\",rmse_test,\"RMSE for lstm size \",k)\n",
        "      print(\"\\n\")\n",
        "    #print(\"Overall win probablity:\",round(prob,2),)  \n",
        "    #print(\"Overall loss probablity:\",((loss/(win+loss))*100))\n",
        "print(best_win,n1,n2)"
      ],
      "execution_count": null,
      "outputs": [
        {
          "output_type": "stream",
          "text": [
            "Saved current model....\n",
            "Overall win probablity: 51.0\n",
            "50.99601593625498 0 0\n"
          ],
          "name": "stdout"
        }
      ]
    },
    {
      "cell_type": "code",
      "metadata": {
        "id": "bxrD-zyiCRBu",
        "colab_type": "code",
        "colab": {}
      },
      "source": [
        "# train_predict_plot = np.zeros(data_norm.shape)\n",
        "# train_predict_plot[:, :] = np.nan\n",
        "# train_predict_plot[window_size:len(train_predict) + window_size, :] = train_predict\n",
        "\n",
        "# test_predict_plot = np.zeros(data_norm.shape)\n",
        "# test_predict_plot[:, :] = np.nan\n",
        "# test_predict_plot[len(train_predict) + (window_size * 2) + 1:len(data) - 1, :] = test_predict\n",
        "\n",
        "# plt.figure(figsize = (15, 5))\n",
        "# plt.plot(scaler.inverse_transform(data_norm), label = \"True value\")\n",
        "# plt.plot(train_predict_plot, label = \"Training set prediction\")\n",
        "# plt.plot(test_predict_plot, label = \"Test set prediction\")\n",
        "# plt.xlabel(\"Months\")\n",
        "# plt.ylabel(\"Passengers\")\n",
        "# plt.title(\"Comparison true vs. predicted training / test\")\n",
        "# plt.legend()\n",
        "# plt.show()"
      ],
      "execution_count": null,
      "outputs": []
    },
    {
      "cell_type": "code",
      "metadata": {
        "id": "FJbQ8eczCTVO",
        "colab_type": "code",
        "colab": {
          "base_uri": "https://localhost:8080/",
          "height": 281
        },
        "outputId": "d9932ff3-83e4-4748-bc38-01f8046f0ace"
      },
      "source": [
        "model = load_model(\"/content/stock_w2_l2.hdf5\")\n",
        "pred = model.predict(test_X)\n",
        "pred = scaler.inverse_transform(pred[100:110])\n",
        "tst = test[3:]\n",
        "plt.plot(scaler.inverse_transform(tst[100:110]),color='blue')\n",
        "plt.plot(pred,color='red')\n",
        "plt.title('Stock_prediction')\n",
        "plt.show()"
      ],
      "execution_count": null,
      "outputs": [
        {
          "output_type": "display_data",
          "data": {
            "image/png": "[encoded data removed]",
            "text/plain": [
              "<Figure size 432x288 with 1 Axes>"
            ]
          },
          "metadata": {
            "tags": [],
            "needs_background": "light"
          }
        }
      ]
    },
    {
      "cell_type": "code",
      "metadata": {
        "id": "orqF3LIlDxL2",
        "colab_type": "code",
        "colab": {
          "base_uri": "https://localhost:8080/",
          "height": 69
        },
        "outputId": "dbf35c64-5689-4004-8476-c370e783b690"
      },
      "source": [
        "pred = scaler.inverse_transform(model.predict(test_X))\n",
        "org = scaler.inverse_transform(test)\n",
        "org = org[13:]\n",
        "win = 0\n",
        "loss = 0\n",
        "for i in range(1,len(org)):\n",
        "  if pred[i] > pred[i-1] and org[i] > org[i-1]:\n",
        "    win += 1\n",
        "  elif pred[i] < pred[i-1] and org[i] < org[i-1]:\n",
        "    win += 1\n",
        "  else:\n",
        "    loss+=1\n",
        "print(win,loss)\n",
        "print(\"Overall win probablity:\",((win/(win+loss))*100))\n",
        "print(\"Overall loss probablity:\",((loss/(win+loss))*100))"
      ],
      "execution_count": null,
      "outputs": [
        {
          "output_type": "stream",
          "text": [
            "128 123\n",
            "Overall win probablity: 50.99601593625498\n",
            "Overall loss probablity: 49.00398406374502\n"
          ],
          "name": "stdout"
        }
      ]
    },
    {
      "cell_type": "code",
      "metadata": {
        "id": "uYJiv_U-LAvK",
        "colab_type": "code",
        "colab": {}
      },
      "source": [
        "p = scaler.inverse_transform(model.predict(train_X))"
      ],
      "execution_count": null,
      "outputs": []
    },
    {
      "cell_type": "code",
      "metadata": {
        "id": "V0zNi4UoG1iX",
        "colab_type": "code",
        "colab": {
          "base_uri": "https://localhost:8080/",
          "height": 34
        },
        "outputId": "aa32d27a-2b25-4125-c9f1-f360f22351a7"
      },
      "source": [
        "p[0]"
      ],
      "execution_count": null,
      "outputs": [
        {
          "output_type": "execute_result",
          "data": {
            "text/plain": [
              "array([60.31873], dtype=float32)"
            ]
          },
          "metadata": {
            "tags": []
          },
          "execution_count": 123
        }
      ]
    },
    {
      "cell_type": "code",
      "metadata": {
        "id": "KNsrnf2Pqs88",
        "colab_type": "code",
        "colab": {}
      },
      "source": [
        "org = scaler.inverse_transform(train)"
      ],
      "execution_count": null,
      "outputs": []
    },
    {
      "cell_type": "code",
      "metadata": {
        "id": "pp27bG5hqy26",
        "colab_type": "code",
        "colab": {
          "base_uri": "https://localhost:8080/",
          "height": 34
        },
        "outputId": "a32a1dc7-1025-4723-de26-2e65e10df794"
      },
      "source": [
        "train.shape"
      ],
      "execution_count": null,
      "outputs": [
        {
          "output_type": "execute_result",
          "data": {
            "text/plain": [
              "(1497, 1)"
            ]
          },
          "metadata": {
            "tags": []
          },
          "execution_count": 147
        }
      ]
    },
    {
      "cell_type": "code",
      "metadata": {
        "id": "NI4Yadk9q0gS",
        "colab_type": "code",
        "colab": {
          "base_uri": "https://localhost:8080/",
          "height": 34
        },
        "outputId": "5883fa35-7534-4278-e852-25752b8c8449"
      },
      "source": [
        "train_X.shape"
      ],
      "execution_count": null,
      "outputs": [
        {
          "output_type": "execute_result",
          "data": {
            "text/plain": [
              "(1493, 1, 3)"
            ]
          },
          "metadata": {
            "tags": []
          },
          "execution_count": 148
        }
      ]
    },
    {
      "cell_type": "code",
      "metadata": {
        "id": "8b4RLv4Dq3WT",
        "colab_type": "code",
        "colab": {
          "base_uri": "https://localhost:8080/",
          "height": 104
        },
        "outputId": "3ba2bb1d-2a06-47b7-c722-4d37c2988cf8"
      },
      "source": [
        "org[0:5]"
      ],
      "execution_count": null,
      "outputs": [
        {
          "output_type": "execute_result",
          "data": {
            "text/plain": [
              "array([[58.549999],\n",
              "       [59.25    ],\n",
              "       [59.43    ],\n",
              "       [59.669998],\n",
              "       [60.34    ]])"
            ]
          },
          "metadata": {
            "tags": []
          },
          "execution_count": 131
        }
      ]
    },
    {
      "cell_type": "code",
      "metadata": {
        "id": "ifXGBiZHrDNq",
        "colab_type": "code",
        "colab": {}
      },
      "source": [
        ""
      ],
      "execution_count": null,
      "outputs": []
    }
  ]
}